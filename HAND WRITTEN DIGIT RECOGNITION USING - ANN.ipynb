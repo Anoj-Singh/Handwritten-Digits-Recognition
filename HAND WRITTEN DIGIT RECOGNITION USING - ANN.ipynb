{
 "cells": [
  {
   "cell_type": "markdown",
   "metadata": {},
   "source": [
    "# HAND WRITTEN DIGITS RECOGNITION"
   ]
  },
  {
   "cell_type": "code",
   "execution_count": 1,
   "metadata": {
    "id": "D8IuIaCsTuer"
   },
   "outputs": [],
   "source": [
    "# IMPORTING THE LIBRARIES\n",
    "\n",
    "import tensorflow as tf\n",
    "import numpy as np\n",
    "from keras.datasets import mnist\n",
    "import matplotlib.pyplot as plt\n",
    "import seaborn as sns"
   ]
  },
  {
   "cell_type": "code",
   "execution_count": 2,
   "metadata": {
    "id": "-Qkmve34US8k"
   },
   "outputs": [],
   "source": [
    "# LOADING THE DATA\n",
    "\n",
    "(x_train, y_train), (x_test, y_test) = mnist.load_data()"
   ]
  },
  {
   "cell_type": "code",
   "execution_count": 3,
   "metadata": {
    "colab": {
     "base_uri": "https://localhost:8080/"
    },
    "id": "noJT3WhMYP7s",
    "outputId": "9695f1fc-e3a8-4381-e835-5a5ce740f3bf"
   },
   "outputs": [
    {
     "data": {
      "text/plain": [
       "((60000, 28, 28), (10000, 28, 28))"
      ]
     },
     "execution_count": 3,
     "metadata": {
      "tags": []
     },
     "output_type": "execute_result"
    }
   ],
   "source": [
    "x_train.shape, x_test.shape"
   ]
  },
  {
   "cell_type": "code",
   "execution_count": 4,
   "metadata": {
    "colab": {
     "base_uri": "https://localhost:8080/"
    },
    "id": "bvuG_aivYQxV",
    "outputId": "60995d4c-c1eb-4011-b8f9-593ea5cd636a"
   },
   "outputs": [
    {
     "data": {
      "text/plain": [
       "(28, 28)"
      ]
     },
     "execution_count": 4,
     "metadata": {
      "tags": []
     },
     "output_type": "execute_result"
    }
   ],
   "source": [
    "x_train[0].shape"
   ]
  },
  {
   "cell_type": "code",
   "execution_count": 5,
   "metadata": {
    "colab": {
     "base_uri": "https://localhost:8080/",
     "height": 283
    },
    "id": "yCFi10ReUdXK",
    "outputId": "8f3ceac3-7142-47fe-996c-8d723180c566"
   },
   "outputs": [
    {
     "data": {
      "text/plain": [
       "<matplotlib.image.AxesImage at 0x7f2071d1cd90>"
      ]
     },
     "execution_count": 5,
     "metadata": {
      "tags": []
     },
     "output_type": "execute_result"
    },
    {
     "data": {
      "image/png": "[encoded data removed]",
      "text/plain": [
       "<Figure size 432x288 with 1 Axes>"
      ]
     },
     "metadata": {
      "needs_background": "light",
      "tags": []
     },
     "output_type": "display_data"
    }
   ],
   "source": [
    "plt.imshow(x_train[0])"
   ]
  },
  {
   "cell_type": "code",
   "execution_count": 6,
   "metadata": {
    "colab": {
     "base_uri": "https://localhost:8080/"
    },
    "id": "VKNhzXiqUpQl",
    "outputId": "5c94fc0e-374e-40b8-afe2-cc7bea2e4f29"
   },
   "outputs": [
    {
     "data": {
      "text/plain": [
       "5"
      ]
     },
     "execution_count": 6,
     "metadata": {
      "tags": []
     },
     "output_type": "execute_result"
    }
   ],
   "source": [
    "y_train[0]"
   ]
  },
  {
   "cell_type": "markdown",
   "metadata": {},
   "source": [
    "# BUILDING THE MODEL"
   ]
  },
  {
   "cell_type": "code",
   "execution_count": 7,
   "metadata": {
    "id": "23AKKel5Usgt"
   },
   "outputs": [],
   "source": [
    "\n",
    "# INITIALISING THE ANN\n",
    "model = tf.keras.models.Sequential([\n",
    "                                    \n",
    "                                    # FLATTENING THE DATA\n",
    "                                    tf.keras.layers.Flatten(),\n",
    "\n",
    "                                    #FIRST HIDDEN LAYER\n",
    "                                    tf.keras.layers.Dense(units=256, activation='relu'),\n",
    "\n",
    "                                    # SECOND HIDDEN LAYER\n",
    "                                    tf.keras.layers.Dense(units=256, activation='relu'),\n",
    "\n",
    "                                    #OUTPUT LAYER\n",
    "                                    tf.keras.layers.Dense(units=10, activation='softmax')\n",
    "])"
   ]
  },
  {
   "cell_type": "code",
   "execution_count": 8,
   "metadata": {
    "id": "RrDCQhK2VOwz"
   },
   "outputs": [],
   "source": [
    "# COMPILING THE ANN\n",
    "\n",
    "model.compile(optimizer='adam', loss='sparse_categorical_crossentropy', metrics=['accuracy'])"
   ]
  },
  {
   "cell_type": "code",
   "execution_count": 9,
   "metadata": {
    "colab": {
     "base_uri": "https://localhost:8080/"
    },
    "id": "cwoeWT3dVcsV",
    "outputId": "c73d378e-183a-4279-d404-4e0b8ff9abc7"
   },
   "outputs": [
    {
     "name": "stdout",
     "output_type": "stream",
     "text": [
      "Epoch 1/15\n",
      "235/235 [==============================] - 2s 4ms/step - loss: 12.4010 - accuracy: 0.7727 - val_loss: 0.8392 - val_accuracy: 0.9238\n",
      "Epoch 2/15\n",
      "235/235 [==============================] - 1s 2ms/step - loss: 0.5126 - accuracy: 0.9409 - val_loss: 0.6127 - val_accuracy: 0.9334\n",
      "Epoch 3/15\n",
      "235/235 [==============================] - 1s 2ms/step - loss: 0.2437 - accuracy: 0.9608 - val_loss: 0.5401 - val_accuracy: 0.9390\n",
      "Epoch 4/15\n",
      "235/235 [==============================] - 1s 3ms/step - loss: 0.1567 - accuracy: 0.9714 - val_loss: 0.4221 - val_accuracy: 0.9528\n",
      "Epoch 5/15\n",
      "235/235 [==============================] - 1s 2ms/step - loss: 0.1154 - accuracy: 0.9771 - val_loss: 0.4495 - val_accuracy: 0.9517\n",
      "Epoch 6/15\n",
      "235/235 [==============================] - 1s 3ms/step - loss: 0.1000 - accuracy: 0.9807 - val_loss: 0.4079 - val_accuracy: 0.9554\n",
      "Epoch 7/15\n",
      "235/235 [==============================] - 1s 3ms/step - loss: 0.0847 - accuracy: 0.9837 - val_loss: 0.4425 - val_accuracy: 0.9566\n",
      "Epoch 8/15\n",
      "235/235 [==============================] - 1s 3ms/step - loss: 0.0848 - accuracy: 0.9829 - val_loss: 0.3890 - val_accuracy: 0.9584\n",
      "Epoch 9/15\n",
      "235/235 [==============================] - 1s 3ms/step - loss: 0.0992 - accuracy: 0.9822 - val_loss: 0.4200 - val_accuracy: 0.9586\n",
      "Epoch 10/15\n",
      "235/235 [==============================] - 1s 3ms/step - loss: 0.0944 - accuracy: 0.9825 - val_loss: 0.4076 - val_accuracy: 0.9608\n",
      "Epoch 11/15\n",
      "235/235 [==============================] - 1s 3ms/step - loss: 0.0840 - accuracy: 0.9850 - val_loss: 0.4454 - val_accuracy: 0.9613\n",
      "Epoch 12/15\n",
      "235/235 [==============================] - 1s 3ms/step - loss: 0.1047 - accuracy: 0.9829 - val_loss: 0.4098 - val_accuracy: 0.9594\n",
      "Epoch 13/15\n",
      "235/235 [==============================] - 1s 2ms/step - loss: 0.0804 - accuracy: 0.9865 - val_loss: 0.3472 - val_accuracy: 0.9668\n",
      "Epoch 14/15\n",
      "235/235 [==============================] - 1s 3ms/step - loss: 0.0803 - accuracy: 0.9871 - val_loss: 0.3727 - val_accuracy: 0.9638\n",
      "Epoch 15/15\n",
      "235/235 [==============================] - 1s 3ms/step - loss: 0.0692 - accuracy: 0.9883 - val_loss: 0.3986 - val_accuracy: 0.9604\n"
     ]
    },
    {
     "data": {
      "text/plain": [
       "<tensorflow.python.keras.callbacks.History at 0x7f20605be950>"
      ]
     },
     "execution_count": 9,
     "metadata": {
      "tags": []
     },
     "output_type": "execute_result"
    }
   ],
   "source": [
    "# TRAINING THE MODEL ON TRAIN SET AND EVALUATING ON TEST SET\n",
    "\n",
    "model.fit(x_train, y_train, batch_size=256, epochs = 15, validation_data=(x_test, y_test))"
   ]
  },
  {
   "cell_type": "code",
   "execution_count": 10,
   "metadata": {
    "id": "Z0V-mPTcVi0H"
   },
   "outputs": [],
   "source": [
    "# MAKING PREDICTION\n",
    "\n",
    "y_pred=model.predict(x_test)\n",
    "y_pred = [np.argmax(i) for i in y_pred]"
   ]
  },
  {
   "cell_type": "code",
   "execution_count": 11,
   "metadata": {
    "colab": {
     "base_uri": "https://localhost:8080/",
     "height": 813
    },
    "id": "fPfkEl8CV6oG",
    "outputId": "376b481c-fdf1-45f6-b49f-3596f1e24399"
   },
   "outputs": [
    {
     "name": "stdout",
     "output_type": "stream",
     "text": [
      "0.9604\n",
      "              precision    recall  f1-score   support\n",
      "\n",
      "           0       0.97      0.98      0.98       980\n",
      "           1       0.98      0.99      0.99      1135\n",
      "           2       0.96      0.94      0.95      1032\n",
      "           3       0.96      0.96      0.96      1010\n",
      "           4       0.96      0.95      0.96       982\n",
      "           5       0.97      0.94      0.96       892\n",
      "           6       0.97      0.97      0.97       958\n",
      "           7       0.94      0.96      0.95      1028\n",
      "           8       0.94      0.95      0.94       974\n",
      "           9       0.94      0.95      0.94      1009\n",
      "\n",
      "    accuracy                           0.96     10000\n",
      "   macro avg       0.96      0.96      0.96     10000\n",
      "weighted avg       0.96      0.96      0.96     10000\n",
      "\n"
     ]
    },
    {
     "data": {
      "text/plain": [
       "<matplotlib.axes._subplots.AxesSubplot at 0x7f2060539a50>"
      ]
     },
     "execution_count": 11,
     "metadata": {
      "tags": []
     },
     "output_type": "execute_result"
    },
    {
     "data": {
      "image/png": "[encoded data removed]",
      "text/plain": [
       "<Figure size 720x576 with 2 Axes>"
      ]
     },
     "metadata": {
      "needs_background": "light",
      "tags": []
     },
     "output_type": "display_data"
    }
   ],
   "source": [
    "# PLOTTING CONFUSION MATRIX\n",
    "\n",
    "from sklearn.metrics import classification_report, accuracy_score, confusion_matrix\n",
    "\n",
    "print(accuracy_score(y_test, y_pred))\n",
    "print(classification_report(y_test, y_pred))\n",
    "\n",
    "cm=confusion_matrix(y_test, y_pred)\n",
    "\n",
    "plt.figure(figsize=(10,8))\n",
    "sns.heatmap(cm, annot=True, lw=3, fmt='d')"
   ]
  },
  {
   "cell_type": "code",
   "execution_count": 11,
   "metadata": {
    "id": "hHFZAnmqWJYF"
   },
   "outputs": [],
   "source": []
  }
 ],
 "metadata": {
  "accelerator": "GPU",
  "colab": {
   "collapsed_sections": [],
   "name": "ANN ( MULTICLASS - CLASSIFICATION ).ipynb",
   "provenance": []
  },
  "kernelspec": {
   "display_name": "Python 3",
   "language": "python",
   "name": "python3"
  },
  "language_info": {
   "codemirror_mode": {
    "name": "ipython",
    "version": 3
   },
   "file_extension": ".py",
   "mimetype": "text/x-python",
   "name": "python",
   "nbconvert_exporter": "python",
   "pygments_lexer": "ipython3",
   "version": "3.7.6"
  }
 },
 "nbformat": 4,
 "nbformat_minor": 1
}
